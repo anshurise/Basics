{
  "nbformat": 4,
  "nbformat_minor": 0,
  "metadata": {
    "colab": {
      "provenance": [],
      "authorship_tag": "ABX9TyNJMQuZazK7v7tbFyva26Vm",
      "include_colab_link": true
    },
    "kernelspec": {
      "name": "python3",
      "display_name": "Python 3"
    },
    "language_info": {
      "name": "python"
    }
  },
  "cells": [
    {
      "cell_type": "markdown",
      "metadata": {
        "id": "view-in-github",
        "colab_type": "text"
      },
      "source": [
        "<a href=\"https://colab.research.google.com/github/anshurise/Basics/blob/main/Python_loops.ipynb\" target=\"_parent\"><img src=\"https://colab.research.google.com/assets/colab-badge.svg\" alt=\"Open In Colab\"/></a>"
      ]
    },
    {
      "cell_type": "code",
      "execution_count": null,
      "metadata": {
        "colab": {
          "base_uri": "https://localhost:8080/",
          "height": 105
        },
        "id": "7LqjHgrN7oW1",
        "outputId": "dc403b65-fb81-4b64-9625-54f69869bb19"
      },
      "outputs": [
        {
          "output_type": "stream",
          "name": "stdout",
          "text": [
            "18\n",
            "7\n",
            "1991\n"
          ]
        },
        {
          "output_type": "execute_result",
          "data": {
            "text/plain": [
              "'\\nThis is a comment, not a part of code. Like an explainer text for you. Notes.\\nTriple quotation marks (\") enable you to write multiple line comments , which are like notes.\\n\\nfor example, above code assigns values to a,b,c variable.\\n'"
            ],
            "application/vnd.google.colaboratory.intrinsic+json": {
              "type": "string"
            }
          },
          "metadata": {},
          "execution_count": 14
        }
      ],
      "source": [
        "a=18\n",
        "b=7\n",
        "c=1991\n",
        "print (a)\n",
        "print (b)\n",
        "print (c)\n",
        "\"\"\"\n",
        "This is a comment, not a part of code. Like an explainer text for you. Notes.\n",
        "Triple quotation marks (\") enable you to write multiple line comments , which are like notes.\n",
        "\n",
        "for example, above code assigns values to a,b,c variable.\n",
        "\"\"\""
      ]
    },
    {
      "cell_type": "code",
      "source": [
        "my_list = [ 1, 2, 3, 4 ]\n",
        "\n",
        "for element in my_list:\n",
        "    print( element )\n",
        "\n",
        "\n",
        "\"\"\"\n",
        "Below is given explaination of how for loop works.\n",
        "Each number is printed on a new line because the print function in Python automatically adds a newline character at the end of the output.\n",
        "The for loop in this script makes it so that every element in my_list is assigned to the variable element one by one, and then that element is printed out.\n",
        "This process repeats until all elements in the list have been printed.\n",
        "\"\"\""
      ],
      "metadata": {
        "id": "W5-C_OnF70tt"
      },
      "execution_count": null,
      "outputs": []
    }
  ]
}